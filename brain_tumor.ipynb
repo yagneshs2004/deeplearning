{
  "nbformat": 4,
  "nbformat_minor": 0,
  "metadata": {
    "colab": {
      "provenance": [],
      "mount_file_id": "1odn5cixL5VLWRklEpHiyHApummoYpudr",
      "authorship_tag": "ABX9TyMnDEG9x5M0LCR54WWX2icY",
      "include_colab_link": true
    },
    "kernelspec": {
      "name": "python3",
      "display_name": "Python 3"
    },
    "language_info": {
      "name": "python"
    }
  },
  "cells": [
    {
      "cell_type": "markdown",
      "metadata": {
        "id": "view-in-github",
        "colab_type": "text"
      },
      "source": [
        "<a href=\"https://colab.research.google.com/github/yagneshs2004/deeplearning/blob/main/brain_tumor.ipynb\" target=\"_parent\"><img src=\"https://colab.research.google.com/assets/colab-badge.svg\" alt=\"Open In Colab\"/></a>"
      ]
    },
    {
      "cell_type": "code",
      "execution_count": 1,
      "metadata": {
        "id": "9CXVjhHc9-B-"
      },
      "outputs": [],
      "source": [
        "import tensorflow as tf\n",
        "from tensorflow import keras\n",
        "import pandas as pd\n",
        "import numpy as np\n",
        "import random\n",
        "import os\n",
        "import shutil"
      ]
    },
    {
      "cell_type": "code",
      "source": [
        "source_path = '/content/drive/MyDrive/brain_tumor_dataset2'\n",
        "tumor_path = '/content/drive/MyDrive/brain_tumor_dataset2/yes'\n",
        "no_tumor_path = '/content/drive/MyDrive/brain_tumor_dataset2/no'"
      ],
      "metadata": {
        "id": "tuouYEpfZXds"
      },
      "execution_count": 2,
      "outputs": []
    },
    {
      "cell_type": "code",
      "source": [
        "print(os.listdir(source_path))\n",
        "print(os.listdir(tumor_path))\n",
        "print(os.listdir(no_tumor_path))"
      ],
      "metadata": {
        "colab": {
          "base_uri": "https://localhost:8080/"
        },
        "id": "iy4C5vdxr9vg",
        "outputId": "b19be2fc-65dc-48b0-e5ca-ab58c8813a32"
      },
      "execution_count": 3,
      "outputs": [
        {
          "output_type": "stream",
          "name": "stdout",
          "text": [
            "['yes', 'no', '.ipynb_checkpoints']\n",
            "['Y157.JPG', 'Y111.JPG', 'Y104.jpg', 'Y156.JPG', 'Y109.JPG', 'Y106.jpg', 'Y102.jpg', 'Y147.JPG', 'Y13.jpg', 'Y108.jpg', 'Y112.JPG', 'Y116.JPG', 'Y146.JPG', 'Y10.jpg', 'Y115.JPG', 'Y155.JPG', 'Y153.jpg', 'Y114.JPG', 'Y107.jpg', 'Y113.JPG', 'Y12.jpg', 'Y15.jpg', 'Y1.jpg', 'Y117.JPG', 'Y148.JPG', 'Y105.jpg', 'Y11.jpg', 'Y103.jpg', 'Y100.JPG', 'Y101.jpg', 'Y14.jpg', 'Y154.jpg', 'Y120.JPG', 'Y165.JPG', 'Y251.JPG', 'Y242.JPG', 'Y19.JPG', 'Y246.JPG', 'Y26.jpg', 'Y159.JPG', 'Y184.JPG', 'Y3.jpg', 'Y17.jpg', 'Y192.JPG', 'Y160.JPG', 'Y253.JPG', 'Y18.JPG', 'Y25.jpg', 'Y162.jpg', 'Y259.JPG', 'Y195.JPG', 'Y22.jpg', 'Y254.jpg', 'Y29.jpg', 'Y28.jpg', 'Y187.jpg', 'Y193.JPG', 'Y182.JPG', 'Y250.jpg', 'Y247.JPG', 'Y243.JPG', 'Y24.jpg', 'Y256.JPG', 'Y258.JPG', 'Y249.JPG', 'Y252.jpg', 'Y161.JPG', 'Y257.jpg', 'Y20.jpg', 'Y244.JPG', 'Y16.JPG', 'Y194.jpg', 'Y2.jpg', 'Y167.JPG', 'Y168.jpg', 'Y255.JPG', 'Y170.JPG', 'Y186.jpg', 'Y248.JPG', 'Y185.jpg', 'Y180.jpg', 'Y188.jpg', 'Y164.JPG', 'Y163.JPG', 'Y183.jpg', 'Y27.jpg', 'Y181.jpg', 'Y166.JPG', 'Y23.JPG', 'Y21.jpg', 'Y158.JPG', 'Y245.jpg', 'Y169.jpg', 'Y51.jpg', 'Y46.jpg', 'Y40.JPG', 'Y50.JPG', 'Y98.JPG', 'Y54.jpg', 'Y52.jpg', 'Y4.jpg', 'Y67.JPG', 'Y33.jpg', 'Y97.JPG', 'Y6.jpg', 'Y70.jpg', 'Y30.jpg', 'Y78.jpg', 'Y75.JPG', 'Y61.jpg', 'Y60.jpg', 'Y31.jpg', 'Y45.JPG', 'Y47.JPG', 'Y86.JPG', 'Y69.jpg', 'Y42.jpg', 'Y79.jpg', 'Y59.JPG', 'Y92.png', 'Y8.jpg', 'Y37.jpg', 'Y89.JPG', 'Y7.jpg', 'Y39.jpg', 'Y77.jpg', 'Y95.jpg', 'Y49.JPG', 'Y66.JPG', 'Y90.jpg', 'Y91.jpg', 'Y81.jpg', 'Y55.jpg', 'Y53.jpg', 'Y32.jpg', 'Y62.jpg', 'Y9.jpg', 'Y74.jpg', 'Y71.JPG', 'Y44.JPG', 'Y92.jpg', 'Y34.jpg', 'Y58.JPG', 'Y65.JPG', 'Y35.jpg', 'Y41.jpg', 'Y73.jpg', 'Y76.jpg', 'Y96.jpg', 'Y85.JPG', 'Y56.jpg', 'Y36.JPG', 'Y82.jpg', 'Y38.jpg', 'Y99.JPG']\n",
            "['1 no.jpeg', '15 no.jpg', '12 no.jpg', '18 no.jpg', '10 no.jpg', '11 no.jpg', '13 no.jpg', '2 no.jpeg', '14 no.jpg', '19 no.jpg', '17 no.jpg', '48 no.jpeg', '5 no.jpg', '40 no.jpg', '49 no.jpg', 'N21.jpg', '43 no.jpg', 'N22.JPG', 'No12.jpg', '4 no.jpg', '42 no.jpg', '28 no.jpg', 'No18.jpg', '3 no.jpg', '8 no.jpg', '38 no.jpg', 'No19.jpg', 'N6.jpg', '50 no.jpg', '7 no.jpg', 'N11.jpg', '35 no.jpg', 'N17.jpg', '47 no.jpg', '6 no.jpg', '46 no.jpg', '31 no.jpg', '32 no.jpg', 'N20.JPG', '25 no.jpg', '9 no.jpg', 'No14.jpg', '29 no.jpg', '33 no.jpg', '21 no.jpg', 'No13.jpg', '41 no.jpg', '36 no.jpg', '37 no.jpg', 'N19.JPG', 'No11.jpg', '20 no.jpg', 'N3.jpg', '39 no.jpg', 'N15.jpg', 'N5.jpg', '22 no.jpg', '27 no.jpg', '30 no.jpg', 'N1.JPG', 'N16.jpg', '26 no.jpg', '24 no.jpg', 'N2.JPG', '23 no.jpg', 'N26.JPG', 'No17.jpg', '34 no.jpg', 'No15.jpg', '44no.jpg', 'No16.jpg', '45 no.jpg', 'No20.jpg', 'no 3.jpg', 'no 89.jpg', 'no 90.jpg', 'no 4.jpg', 'no.jpg', 'no 98.jpg', 'no 10.jpg', 'no 100.jpg', 'no 5.jpeg', 'no 7.jpeg', 'No22.jpg', 'no 99.jpg', 'no 92.jpg', 'no 1.jpg', 'no 8.jpg', 'no 923.jpg', 'no 91.jpeg', 'no 96.jpg', 'no 9.png', 'no 95.jpg', 'no 97.jpg', 'no 2.jpg', 'no 94.jpg', 'no 6.jpg', 'No21.jpg']\n"
          ]
        }
      ]
    },
    {
      "cell_type": "code",
      "source": [
        "root_path = 'content/dataset/'"
      ],
      "metadata": {
        "id": "zDi9D2QfuuqP"
      },
      "execution_count": 4,
      "outputs": []
    },
    {
      "cell_type": "code",
      "source": [
        "training = os.path.join(root_path,'training')\n",
        "testing = os.path.join(root_path,'testing')\n",
        "train_tumor = os.path.join(training, 'tumor')\n",
        "test_tumor = os.path.join(testing, 'tumor')\n",
        "train_no_tumor = os.path.join(training, 'no_tumor')\n",
        "test_no_tumor = os.path.join(testing,'no_tumor')"
      ],
      "metadata": {
        "id": "I-Xoc2UftsnA"
      },
      "execution_count": 5,
      "outputs": []
    },
    {
      "cell_type": "code",
      "source": [
        "os.makedirs(train_tumor)\n",
        "os.makedirs(test_tumor)\n",
        "os.makedirs(train_no_tumor)\n",
        "os.makedirs(test_no_tumor)"
      ],
      "metadata": {
        "id": "tlmVkDXfuBJ8"
      },
      "execution_count": 6,
      "outputs": []
    },
    {
      "cell_type": "code",
      "source": [
        "split_size = 0.9"
      ],
      "metadata": {
        "id": "pluz9OjexCwx"
      },
      "execution_count": 7,
      "outputs": []
    },
    {
      "cell_type": "code",
      "source": [
        "def data_copy(source, train_dest, test_dest, size):\n",
        "  files = os.listdir(source)\n",
        "  files = random.sample(files,len(files))\n",
        "  for i, n in enumerate(files):\n",
        "    if os.path.getsize(os.path.join(source, n)) <= 0:\n",
        "      print(n,\"is zero length, so ignoring.\")\n",
        "    elif i<size*len(files):\n",
        "      shutil.copyfile(os.path.join(source,n),os.path.join(train_dest,n))\n",
        "    else:\n",
        "      shutil.copyfile(os.path.join(source,n),os.path.join(test_dest,n))"
      ],
      "metadata": {
        "id": "F72BAZ5sxe8G"
      },
      "execution_count": 8,
      "outputs": []
    },
    {
      "cell_type": "code",
      "source": [
        "data_copy(tumor_path,train_tumor,test_tumor,split_size)\n",
        "data_copy(no_tumor_path,train_no_tumor,test_no_tumor,split_size)"
      ],
      "metadata": {
        "id": "-8bpOw7CzRbr"
      },
      "execution_count": 9,
      "outputs": []
    },
    {
      "cell_type": "code",
      "source": [
        "from PIL import Image"
      ],
      "metadata": {
        "id": "s0ilv6ISKxGc"
      },
      "execution_count": 10,
      "outputs": []
    },
    {
      "cell_type": "code",
      "source": [
        "target_size = (150, 150)  # Example target size\n",
        "\n",
        "# Function to resize images in a directory\n",
        "def resize_images(directory, target_size):\n",
        "    for root, _, files in os.walk(directory):\n",
        "        for file in files:\n",
        "            if file.endswith('.jpg') or file.endswith('.JPG') or file.endswith('.JPEG') or file.endswith('.jpeg'):  # You can specify other extensions if needed\n",
        "                filepath = os.path.join(root, file)\n",
        "                try:\n",
        "                    image = Image.open(filepath)\n",
        "                    resized_image = image.resize(target_size, Image.ANTIALIAS)\n",
        "                    resized_image.save(filepath)\n",
        "                except Exception as e:\n",
        "                    image = image.convert('RGB')\n",
        "                    image.save(filepath)\n",
        "                    resized_image = image.resize(target_size, Image.ANTIALIAS)\n",
        "                    resized_image.save(filepath)\n",
        "\n",
        "# Resize images in the dataset directory\n"
      ],
      "metadata": {
        "id": "0c-qkq2yLDAU"
      },
      "execution_count": 13,
      "outputs": []
    },
    {
      "cell_type": "code",
      "source": [
        "resize_images(train_tumor, target_size)\n",
        "resize_images(train_no_tumor, target_size)\n",
        "resize_images(test_tumor, target_size)\n",
        "resize_images(test_no_tumor, target_size)"
      ],
      "metadata": {
        "colab": {
          "base_uri": "https://localhost:8080/"
        },
        "id": "l5224hRTO4lW",
        "outputId": "118b4f99-c283-461c-b6b6-80074fb2c979"
      },
      "execution_count": 14,
      "outputs": [
        {
          "output_type": "stream",
          "name": "stderr",
          "text": [
            "<ipython-input-13-49990f4d982a>:11: DeprecationWarning: ANTIALIAS is deprecated and will be removed in Pillow 10 (2023-07-01). Use LANCZOS or Resampling.LANCZOS instead.\n",
            "  resized_image = image.resize(target_size, Image.ANTIALIAS)\n",
            "<ipython-input-13-49990f4d982a>:16: DeprecationWarning: ANTIALIAS is deprecated and will be removed in Pillow 10 (2023-07-01). Use LANCZOS or Resampling.LANCZOS instead.\n",
            "  resized_image = image.resize(target_size, Image.ANTIALIAS)\n"
          ]
        }
      ]
    },
    {
      "cell_type": "code",
      "source": [
        "from tensorflow.keras.preprocessing.image import ImageDataGenerator"
      ],
      "metadata": {
        "id": "p0a0iU9P0_AW"
      },
      "execution_count": 15,
      "outputs": []
    },
    {
      "cell_type": "code",
      "source": [
        "datagen_train = ImageDataGenerator(rescale=1./255,\n",
        "                                     rotation_range=40,\n",
        "                                     width_shift_range=0.2,\n",
        "                                     height_shift_range=0.2,\n",
        "                                     shear_range=0.2,\n",
        "                                     zoom_range=0.2,\n",
        "                                     horizontal_flip=True,\n",
        "                                     fill_mode='nearest')\n",
        "datagen_test = ImageDataGenerator(rescale=1./255,\n",
        "                                     rotation_range=40,\n",
        "                                     width_shift_range=0.2,\n",
        "                                     height_shift_range=0.2,\n",
        "                                     shear_range=0.2,\n",
        "                                     zoom_range=0.2,\n",
        "                                     horizontal_flip=True,\n",
        "                                     fill_mode='nearest')"
      ],
      "metadata": {
        "id": "YCZN5CDP3d3J"
      },
      "execution_count": 16,
      "outputs": []
    },
    {
      "cell_type": "code",
      "source": [
        "train_generator = datagen_train.flow_from_directory(directory=training,\n",
        "                                                                batch_size=20,\n",
        "                                                                class_mode='binary',\n",
        "                                                                target_size=(150, 150))"
      ],
      "metadata": {
        "id": "BDnukl8730IK",
        "colab": {
          "base_uri": "https://localhost:8080/"
        },
        "outputId": "d7b0da55-89d2-44c2-bf6a-08438484cbbd"
      },
      "execution_count": 17,
      "outputs": [
        {
          "output_type": "stream",
          "name": "stdout",
          "text": [
            "Found 229 images belonging to 2 classes.\n"
          ]
        }
      ]
    },
    {
      "cell_type": "code",
      "source": [
        "test_generator = datagen_test.flow_from_directory(directory=testing,\n",
        "                                                                batch_size=20,\n",
        "                                                                class_mode='binary',\n",
        "                                                                target_size=(150, 150))"
      ],
      "metadata": {
        "colab": {
          "base_uri": "https://localhost:8080/"
        },
        "id": "ZJVTFyqtRCvc",
        "outputId": "dcec40f0-1838-4d63-bba7-a5921781ee38"
      },
      "execution_count": 18,
      "outputs": [
        {
          "output_type": "stream",
          "name": "stdout",
          "text": [
            "Found 24 images belonging to 2 classes.\n"
          ]
        }
      ]
    },
    {
      "cell_type": "code",
      "source": [
        "import cv2"
      ],
      "metadata": {
        "id": "2RWVE0JFHE6r"
      },
      "execution_count": 21,
      "outputs": []
    },
    {
      "cell_type": "code",
      "source": [],
      "metadata": {
        "id": "DK4Q8cfJxoTF"
      },
      "execution_count": null,
      "outputs": []
    },
    {
      "cell_type": "code",
      "source": [
        "import matplotlib.pyplot as plt"
      ],
      "metadata": {
        "id": "IQ-Rd-LYydai"
      },
      "execution_count": 25,
      "outputs": []
    },
    {
      "cell_type": "code",
      "source": [
        "model = tf.keras.models.Sequential([\n",
        "      tf.keras.layers.Conv2D(128,(3,3),input_shape=(150,150,3),activation='relu'),\n",
        "      tf.keras.layers.Conv2D(64,(3,3),activation='relu'),\n",
        "      tf.keras.layers.MaxPooling2D(2,2),\n",
        "      tf.keras.layers.Flatten(),\n",
        "      tf.keras.layers.Dense(10, activation=\"relu\"),\n",
        "      tf.keras.layers.Dense(1, activation=\"sigmoid\")\n",
        "  ])\n"
      ],
      "metadata": {
        "id": "JTDrXoQzOnXZ"
      },
      "execution_count": 54,
      "outputs": []
    },
    {
      "cell_type": "code",
      "source": [
        "model.compile(optimizer=tf.keras.optimizers.RMSprop(learning_rate=0.001),\n",
        "                loss=tf.keras.losses.BinaryCrossentropy(),\n",
        "                metrics=['accuracy'])\n"
      ],
      "metadata": {
        "id": "LTQHd5yMRTlQ"
      },
      "execution_count": 55,
      "outputs": []
    },
    {
      "cell_type": "code",
      "source": [
        "history = model.fit(train_generator,\n",
        "                    epochs=15,\n",
        "                    verbose=1,\n",
        "                    validation_data=test_generator)"
      ],
      "metadata": {
        "colab": {
          "base_uri": "https://localhost:8080/"
        },
        "id": "dkFHGdg-Rb1N",
        "outputId": "1344ae3d-2be0-4ec2-8a5e-511a7af8d035"
      },
      "execution_count": null,
      "outputs": [
        {
          "output_type": "stream",
          "name": "stdout",
          "text": [
            "Epoch 1/15\n",
            "12/12 [==============================] - 75s 6s/step - loss: 2.1521 - accuracy: 0.5459 - val_loss: 0.6924 - val_accuracy: 0.6250\n",
            "Epoch 2/15\n",
            "12/12 [==============================] - 73s 6s/step - loss: 0.6922 - accuracy: 0.6114 - val_loss: 0.6915 - val_accuracy: 0.6250\n",
            "Epoch 3/15\n",
            "12/12 [==============================] - 75s 6s/step - loss: 0.6914 - accuracy: 0.6114 - val_loss: 0.6907 - val_accuracy: 0.6250\n",
            "Epoch 4/15\n",
            " 9/12 [=====================>........] - ETA: 17s - loss: 0.6907 - accuracy: 0.6095"
          ]
        }
      ]
    },
    {
      "cell_type": "code",
      "source": [],
      "metadata": {
        "id": "juqROuVTRjA1"
      },
      "execution_count": null,
      "outputs": []
    }
  ]
}